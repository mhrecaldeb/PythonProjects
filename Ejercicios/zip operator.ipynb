{
 "cells": [
  {
   "cell_type": "code",
   "execution_count": 35,
   "id": "6a1b881d",
   "metadata": {},
   "outputs": [
    {
     "name": "stdout",
     "output_type": "stream",
     "text": [
      "['9', '8', '7', '6', '5', '4', '3', '2', '1', '0']\n",
      "['0', '1', '2', '3', '4', '5', '6', '7', '8', '9']\n"
     ]
    }
   ],
   "source": [
    "num = 9876543210\n",
    "strg = str(num)\n",
    "lst = list(strg)\n",
    "print(lst)\n",
    "sot = sorted(lst)\n",
    "print(sot)"
   ]
  },
  {
   "cell_type": "code",
   "execution_count": 36,
   "id": "605c56cf",
   "metadata": {},
   "outputs": [
    {
     "data": {
      "text/plain": [
       "[('9', '8'),\n",
       " ('8', '7'),\n",
       " ('7', '6'),\n",
       " ('6', '5'),\n",
       " ('5', '4'),\n",
       " ('4', '3'),\n",
       " ('3', '2'),\n",
       " ('2', '1'),\n",
       " ('1', '0')]"
      ]
     },
     "execution_count": 36,
     "metadata": {},
     "output_type": "execute_result"
    }
   ],
   "source": [
    "y = list(zip(str(num), str(num)[1:]))\n",
    "y"
   ]
  },
  {
   "cell_type": "code",
   "execution_count": 34,
   "id": "bfc52e4f",
   "metadata": {},
   "outputs": [
    {
     "data": {
      "text/plain": [
       "1"
      ]
     },
     "execution_count": 34,
     "metadata": {},
     "output_type": "execute_result"
    }
   ],
   "source": [
    "-9%10"
   ]
  }
 ],
 "metadata": {
  "kernelspec": {
   "display_name": "Python 3 (ipykernel)",
   "language": "python",
   "name": "python3"
  },
  "language_info": {
   "codemirror_mode": {
    "name": "ipython",
    "version": 3
   },
   "file_extension": ".py",
   "mimetype": "text/x-python",
   "name": "python",
   "nbconvert_exporter": "python",
   "pygments_lexer": "ipython3",
   "version": "3.8.8"
  }
 },
 "nbformat": 4,
 "nbformat_minor": 5
}
